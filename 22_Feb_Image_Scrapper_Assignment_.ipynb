{
  "nbformat": 4,
  "nbformat_minor": 0,
  "metadata": {
    "colab": {
      "provenance": [],
      "toc_visible": true
    },
    "kernelspec": {
      "name": "python3",
      "display_name": "Python 3"
    },
    "language_info": {
      "name": "python"
    }
  },
  "cells": [
    {
      "cell_type": "markdown",
      "source": [
        "## 22 Feb Assignment Solution \n",
        "###Go to this given URL and solve the following questions\n",
        "\n",
        "URL: https://www.youtube.com/@PW-Foundation/videos\n",
        "\n",
        "####Q1. Write a python program to extract the video URL of the first five videos.\n",
        "\n",
        "####Q2. Write a python program to extract the URL of the video thumbnails of the first five videos.\n",
        "\n",
        "####Q3. Write a python program to extract the title of the first five videos.\n",
        "\n",
        "####Q4. Write a python program to extract the number of views of the first five videos.\n",
        "\n",
        "####Q5. Write a python program to extract the time of posting of video for the first five videos.\n",
        "\n",
        "####Note: Save all the data scraped in the above questions in a CSV file.\n",
        "\n",
        "####Create a simple UI with all functionalities mentioned above and deploy it in AWS.\n",
        "\n",
        "### SOLUTION\n",
        "* `CSV File`: [https://github.com/rushikesh05/22-Feb-YouTube-Scrap-/blob/master/PW-Foundation.csv)\n",
        "* `Deployed Branch`: [https://github.com/rushikesh05/22-Feb-YouTube-Scrap-.git)\n",
        "* `Deployed APP`: [https://scrap-youtube.azurewebsites.net/](https://scrap-youtube.azurewebsites.net/)\n"
      ],
      "metadata": {
        "id": "wf9IY4qlJ3zk"
      }
    },
    {
      "cell_type": "code",
      "source": [],
      "metadata": {
        "id": "GRz82wOBsULi"
      },
      "execution_count": null,
      "outputs": []
    }
  ]
}